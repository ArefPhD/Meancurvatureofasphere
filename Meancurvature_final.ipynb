{
  "nbformat": 4,
  "nbformat_minor": 0,
  "metadata": {
    "colab": {
      "private_outputs": true,
      "provenance": []
    },
    "kernelspec": {
      "name": "python3",
      "display_name": "Python 3"
    },
    "language_info": {
      "name": "python"
    }
  },
  "cells": [
    {
      "cell_type": "code",
      "source": [
        "from google.colab import files\n",
        "\n",
        "uploaded = files.upload()"
      ],
      "metadata": {
        "id": "hS4BOxaY7HeZ"
      },
      "execution_count": null,
      "outputs": []
    },
    {
      "cell_type": "code",
      "execution_count": null,
      "metadata": {
        "id": "cAGM3hoN7FsU"
      },
      "outputs": [],
      "source": [
        "import pandas as pd\n",
        "import matplotlib.pyplot as plt\n",
        "from mpl_toolkits.mplot3d import Axes3D\n",
        "\n",
        "# read the excel file\n",
        "data = pd.read_excel('coordinates.xlsx')\n",
        "\n",
        "# extract x, y, and z coordinates\n",
        "x = data['x']\n",
        "y = data['y']\n",
        "z = data['z']\n",
        "\n",
        "# create a 3D figure\n",
        "fig = plt.figure()\n",
        "ax = fig.add_subplot(111, projection='3d')\n",
        "\n",
        "# plot the scatter\n",
        "ax.scatter(x, y, z)\n",
        "\n",
        "# set labels for each axis\n",
        "ax.set_xlabel('X Label')\n",
        "ax.set_ylabel('Y Label')\n",
        "ax.set_zlabel('Z Label')\n",
        "\n",
        "# show the plot\n",
        "plt.show()\n"
      ]
    },
    {
      "cell_type": "code",
      "source": [
        "import numpy as np\n",
        "from scipy.spatial import Delaunay\n",
        "\n",
        "# read the excel file\n",
        "data = pd.read_excel('coordinates.xlsx')\n",
        "\n",
        "# extract x, y, and z coordinates\n",
        "x = data['x']\n",
        "y = data['y']\n",
        "z = data['z']\n",
        "\n",
        "# create a Delaunay triangulation of the data\n",
        "points = np.column_stack((x, y, z))\n",
        "tri = Delaunay(points)\n",
        "\n",
        "# plot the surface\n",
        "fig = plt.figure()\n",
        "ax = fig.add_subplot(111, projection='3d')\n",
        "ax.plot_trisurf(points[:, 0], points[:, 1], points[:, 2], triangles=tri.simplices, cmap=plt.cm.Spectral)\n",
        "ax.set_xlabel('X Label')\n",
        "ax.set_ylabel('Y Label')\n",
        "ax.set_zlabel('Z Label')\n",
        "plt.show()\n"
      ],
      "metadata": {
        "id": "_dNjoOiH7wfX"
      },
      "execution_count": null,
      "outputs": []
    },
    {
      "cell_type": "code",
      "source": [
        "import numpy as np\n",
        "import matplotlib.pyplot as plt\n",
        "from scipy.optimize import curve_fit\n",
        "\n",
        "# Generate random points on a sphere\n",
        "n_points = 3000\n",
        "theta = np.random.uniform(0, np.pi, n_points)\n",
        "phi = np.random.uniform(0, 2*np.pi, n_points)\n",
        "x = np.sin(theta) * np.cos(phi)\n",
        "y = np.sin(theta) * np.sin(phi)\n",
        "z = np.cos(theta)\n",
        "\n",
        "# Plot the sphere with scattered points\n",
        "fig = plt.figure()\n",
        "ax = fig.add_subplot(projection='3d')\n",
        "ax.scatter(x, y, z)\n",
        "\n",
        "# Define the quadratic function to fit\n",
        "def quadratic_func(data, p, q, r, s, t, c):\n",
        "    x, y = data\n",
        "    return p*x**2 + q*y**2 + r*x*y + s*x + t*y + c\n",
        "\n",
        "# Fit the quadratic function to the scattered points\n",
        "data = (x, y)\n",
        "p0 = [1, 1, 1, 1, 1, 1] # Initial guess for parameters\n",
        "params, _ = curve_fit(quadratic_func, data, z, p0=p0)\n",
        "\n",
        "# Evaluate the quadratic function at each point on the sphere\n",
        "xx, yy = np.meshgrid(np.linspace(-1, 1, 50), np.linspace(-1, 1, 50))\n",
        "zz = quadratic_func((xx, yy), *params)\n",
        "\n",
        "# Calculate the mean curvature at each point on the sphere\n",
        "dx = 2/(xx.shape[1]-1)\n",
        "dy = 2/(yy.shape[0]-1)\n",
        "x_grad, y_grad = np.gradient(zz, dx, dy)\n",
        "x_grad2, y_grad2 = np.gradient(x_grad, dx, dy)\n",
        "y_grad2, x_grad2 = np.gradient(y_grad, dy, dx)\n",
        "mean_curvature = (x_grad2*y_grad**2 - 2*x_grad*y_grad*x_grad2 + y_grad2*x_grad**2) / ((x_grad**2 + y_grad**2 + 1e-10)**1.5)\n",
        "\n",
        "# Plot the fitted quadratic function and mean curvature\n",
        "ax.plot_surface(xx, yy, zz, alpha=0.5)\n",
        "ax.scatter(x, y, quadratic_func(data, *params))\n",
        "fig, ax = plt.subplots()\n",
        "ax.imshow(mean_curvature, cmap='RdYlBu')\n",
        "plt.show()\n"
      ],
      "metadata": {
        "id": "fGmTnIaoVUlH"
      },
      "execution_count": null,
      "outputs": []
    },
    {
      "cell_type": "code",
      "source": [
        "mean_curvature.shape"
      ],
      "metadata": {
        "id": "LUBRpL_xTtBo"
      },
      "execution_count": null,
      "outputs": []
    },
    {
      "cell_type": "code",
      "source": [
        "import numpy as np\n",
        "import matplotlib.pyplot as plt\n",
        "from scipy.optimize import curve_fit\n",
        "import pandas as pd\n",
        "\n",
        "# Load data from Excel file\n",
        "df = pd.read_excel('coordinates.xlsx')\n",
        "x = df['x'].values\n",
        "y = df['y'].values\n",
        "z = df['z'].values\n",
        "\n",
        "# Plot the scattered data\n",
        "fig = plt.figure()\n",
        "ax = fig.add_subplot(projection='3d')\n",
        "ax.scatter(x, y, z)\n",
        "\n",
        "# Define the quadratic function to fit\n",
        "def quadratic_func(data, p, q, r, s, t, c):\n",
        "    x, y = data\n",
        "    return p*x**2 + q*y**2 + r*x*y + s*x + t*y + c\n",
        "\n",
        "# Fit the quadratic function to the scattered points\n",
        "data = (x, y)\n",
        "p0 = [1, 1, 1, 1, 1, 1] # Initial guess for parameters\n",
        "params, _ = curve_fit(quadratic_func, data, z, p0=p0)\n",
        "\n",
        "# Evaluate the quadratic function at each point on the sphere\n",
        "xx, yy = np.meshgrid(np.linspace(min(x), max(x), 50), np.linspace(min(y), max(y), 50))\n",
        "zz = quadratic_func((xx, yy), *params)\n",
        "\n",
        "# Calculate the mean curvature at each point on the sphere\n",
        "dx = 2/(xx.shape[1]-1)\n",
        "dy = 2/(yy.shape[0]-1)\n",
        "x_grad, y_grad = np.gradient(zz, dx, dy)\n",
        "x_grad2, y_grad2 = np.gradient(x_grad, dx, dy)\n",
        "y_grad2, x_grad2 = np.gradient(y_grad, dy, dx)\n",
        "mean_curvature = (x_grad2*y_grad**2 - 2*x_grad*y_grad*x_grad2 + y_grad2*x_grad**2) / ((x_grad**2 + y_grad**2 + 1e-10)**1.5)\n",
        "\n",
        "# Plot the fitted quadratic function and mean curvature\n",
        "ax.plot_surface(xx, yy, zz, alpha=0.5)\n",
        "ax.scatter(x, y, quadratic_func(data, *params))\n",
        "fig, ax = plt.subplots()\n",
        "ax.imshow(mean_curvature, cmap='RdYlBu')\n",
        "plt.show()\n",
        "\n"
      ],
      "metadata": {
        "id": "FVl42gNJCvgF"
      },
      "execution_count": null,
      "outputs": []
    },
    {
      "cell_type": "code",
      "source": [
        "yy[0]"
      ],
      "metadata": {
        "id": "Ni1bWwJfcCHP"
      },
      "execution_count": null,
      "outputs": []
    },
    {
      "cell_type": "code",
      "source": [
        "xx[0]\n"
      ],
      "metadata": {
        "id": "yCe9m-JaaXaW"
      },
      "execution_count": null,
      "outputs": []
    },
    {
      "cell_type": "code",
      "source": [
        "mean_curvature[0]"
      ],
      "metadata": {
        "id": "eEmCKZ0UbvB4"
      },
      "execution_count": null,
      "outputs": []
    },
    {
      "cell_type": "code",
      "source": [
        "import open3d as o3d"
      ],
      "metadata": {
        "id": "XbtvpU9ECxk3"
      },
      "execution_count": null,
      "outputs": []
    },
    {
      "cell_type": "code",
      "source": [
        "from scipy.linalg import eig\n",
        "from scipy.spatial.distance import pdist, squareform\n",
        "import numpy as np\n",
        "import matplotlib.pyplot as plt\n",
        "from mpl_toolkits.mplot3d import Axes3D\n",
        "import open3d as o3d\n",
        "\n",
        "def curvature(tri, points):\n",
        "    P = points[tri.simplices]\n",
        "    du = P[:,1,:] - P[:,0,:]\n",
        "    dv = P[:,2,:] - P[:,0,:]\n",
        "    duu = np.sum(du**2,axis=1)\n",
        "    dvv = np.sum(dv**2,axis=1)\n",
        "    duv = np.sum(du*dv,axis=1)\n",
        "    W = np.zeros((len(tri.simplices)))\n",
        "    H = np.zeros((len(tri.simplices),2), dtype=np.float64)\n",
        "    for i in range(len(tri.simplices)):\n",
        "        A = np.array([[duu[i],duv[i]],[duv[i],dvv[i]]])\n",
        "        w,v = eig(A)\n",
        "        H[i] = np.sort(w)[::-1]\n",
        "        W[i] = np.linalg.det(A)\n",
        "    return H, W\n",
        "\n",
        "H, W = curvature(tri, points)\n",
        "\n",
        "K = W / (H[:,0] + H[:,1])**2\n",
        "\n",
        "mean_K = np.zeros(len(points))\n",
        "for i in range(len(points)):\n",
        "    neighbors = tri.vertex_neighbor_vertices[1] == i\n",
        "    if not np.any(neighbors):\n",
        "        continue # skip vertices without neighbors\n",
        "    neighbor_indices = tri.vertex_neighbor_vertices[0][np.nonzero(neighbors)]\n",
        "    mean_K[i] = np.mean(K[neighbor_indices])\n",
        "\n",
        "fig = plt.figure()\n",
        "ax = fig.add_subplot(111, projection='3d')\n",
        "ax.scatter(points[:,0], points[:,1], points[:,2], c=mean_K, cmap=plt.cm.coolwarm)\n",
        "ax.set_xlabel('X Label')\n",
        "ax.set_ylabel('Y Label')\n",
        "ax.set_zlabel('Z Label')\n",
        "plt.show()\n"
      ],
      "metadata": {
        "id": "QqHt2lLk8_tI"
      },
      "execution_count": null,
      "outputs": []
    },
    {
      "cell_type": "code",
      "source": [
        "# fit a second-degree polynomial to the point cloud\n",
        "z = points[:, 2]\n",
        "x = points[:, 0]\n",
        "y = points[:, 1]\n",
        "poly_coeffs = np.polyfit2d(x, y, z, deg=2)\n",
        "\n",
        "# evaluate the polynomial on a grid to visualize the fitted surface\n",
        "X, Y = np.meshgrid(np.linspace(np.min(x), np.max(x), 100), np.linspace(np.min(y), np.max(y), 100))\n",
        "Z = poly_coeffs[0]*X**2 + poly_coeffs[1]*Y**2 + poly_coeffs[2]*X*Y + poly_coeffs[3]*X + poly_coeffs[4]*Y + poly_coeffs[5]\n",
        "\n",
        "# plot the point cloud and the fitted surface\n",
        "fig = plt.figure()\n",
        "ax = fig.add_subplot(111, projection='3d')\n",
        "ax.scatter(x, y, z, c=mean_K, cmap=plt.cm.coolwarm)\n",
        "ax.plot_surface(X, Y, Z, alpha=0.5)\n",
        "ax.set_xlabel('X Label')\n",
        "ax.set_ylabel('Y Label')\n",
        "ax.set_zlabel('Z Label')\n",
        "plt.show()\n"
      ],
      "metadata": {
        "id": "whT0sNxfEsnp"
      },
      "execution_count": null,
      "outputs": []
    }
  ]
}